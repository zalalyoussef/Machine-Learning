{
 "cells": [
  {
   "cell_type": "code",
   "execution_count": null,
   "id": "f88dfa77-e9b4-4e44-b1d5-4a63bd991a22",
   "metadata": {},
   "outputs": [],
   "source": [
    "import matplotlib.pyplot as plt\n",
    "import scipy.io as sio\n",
    "\n",
    "digits = sio.loadmat('usps.mat')\n",
    "digits, labels = digits['x'], digits['y'].squeeze()\n",
    "labels[labels == 10] = 0\n",
    "\n",
    "fig, axes = plt.subplots(6, 6)\n",
    "axes = axes.flatten()\n",
    "for i, ax in enumerate(axes):\n",
    "    ax.imshow(digits[i].reshape(16, 16), cmap=\"gray\")\n",
    "    ax.set_title(labels[i])\n",
    "plt.setp(axes, xticks=[], yticks=[])\n",
    "fig.tight_layout()\n",
    "\n",
    "fig.show()\n",
    "\n",
    "q_ = [2, 5, 10, 20, 50, 100, 200] # values of q that will be tested\n",
    "i_ = [0, 1, 2] # indices of images to reconstruct.\n",
    "fig_rec = {_: plt.figure() for _ in i_}\n",
    "\n",
    "for _ in i_:\n",
    "    fig_rec[_].subplots(1, len(q_) + 1)\n",
    "    fig_rec[_].axes[0].imshow(digits[i_[_]].reshape(16, 16), cmap='gray')\n",
    "    fig_rec[_].axes[0].set_title('Original')\n",
    "\n",
    "    for k, q in enumerate(q_):\n",
    "        pca = PCA(n_components=q)\n",
    "        pca.fit(digits)\n",
    "        z = pca.transform(digits)\n",
    "        x_ = pca.inverse_transform(z)\n",
    "\n",
    "        for _ in i_:\n",
    "            fig_rec[_].axes[k + 1].imshow(x_[i_[_]].reshape(16, 16), cmap='gray')\n",
    "            fig_rec[_].axes[k + 1].set_title('q={}'.format(q))\n",
    "\n",
    "for f in fig_rec:\n",
    "    plt.setp(fig_rec[f].axes, xticks=[], yticks=[])\n",
    "    fig_rec[f].tight_layout()\n",
    "    fig_rec[f].show()\n",
    "\n",
    "from sklearn.manifold import TSNE\n",
    "# define and apply t-sne\n",
    "tsne = TSNE(n_components=2)\n",
    "z_tsne = tsne.fit_transform(digits)\n",
    "# Visualization\n",
    "fig_tsne, ax = plt.subplots(figsize=(12, 8))\n",
    "sc = ax.scatter(z_tsne[:, 0], z_tsne[:, 1], c=labels)\n",
    "\n",
    "fig_tsne.colorbar(sc)\n",
    "ax.set_title(\"t-SNE\")\n",
    "\n",
    "fig_tsne.show()\n"
   ]
  }
 ],
 "metadata": {
  "kernelspec": {
   "display_name": "Python 3 (ipykernel)",
   "language": "python",
   "name": "python3"
  },
  "language_info": {
   "codemirror_mode": {
    "name": "ipython",
    "version": 3
   },
   "file_extension": ".py",
   "mimetype": "text/x-python",
   "name": "python",
   "nbconvert_exporter": "python",
   "pygments_lexer": "ipython3",
   "version": "3.11.6"
  }
 },
 "nbformat": 4,
 "nbformat_minor": 5
}
