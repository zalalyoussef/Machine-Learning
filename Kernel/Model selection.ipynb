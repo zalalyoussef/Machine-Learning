{
 "cells": [
  {
   "cell_type": "code",
   "execution_count": null,
   "id": "3c327267-d41c-49f4-8958-d2b8d12246ac",
   "metadata": {},
   "outputs": [],
   "source": [
    "from sklearn.datasets import load_breast_cancer\n",
    "data = load_breast_cancer()\n",
    "\n",
    "print('Target:', *data.target_names)\n",
    "print('Features:', ', '.join(data.feature_names))\n",
    "X, y = data.data, data.target\n",
    "\n",
    "C_ = np.logspace(-0.5, 2, 25)\n",
    "gamma_ = np.logspace(-3, 1, 25)\n",
    "\n",
    "from sklearn.model_selection import GridSearchCV\n",
    "from sklearn.svm import SVC\n",
    "\n",
    "# the grid\n",
    "parameters = [{\"gamma\": gamma_, \"C\": C_}]\n",
    "\n",
    "# Define the classifier\n",
    "clf = SVC(kernel='rbf')\n",
    "\n",
    "# Perform a K-fold validation using the accuracy as the performance measure\n",
    "K = 3\n",
    "clf = GridSearchCV(clf, param_grid=parameters, cv=K, scoring='accuracy', verbose=2, n_jobs=2)\n",
    "clf.fit(Xa, ya)  # Of course you have to do first a train/test split!\n",
    "print('Best parameters:', clf.best_params_)\n",
    "print('Best score: {:.1%}'.format(clf.best_score_))\n"
   ]
  }
 ],
 "metadata": {
  "kernelspec": {
   "display_name": "Python 3 (ipykernel)",
   "language": "python",
   "name": "python3"
  },
  "language_info": {
   "codemirror_mode": {
    "name": "ipython",
    "version": 3
   },
   "file_extension": ".py",
   "mimetype": "text/x-python",
   "name": "python",
   "nbconvert_exporter": "python",
   "pygments_lexer": "ipython3",
   "version": "3.11.6"
  }
 },
 "nbformat": 4,
 "nbformat_minor": 5
}
