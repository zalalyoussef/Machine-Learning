{
 "cells": [
  {
   "cell_type": "code",
   "execution_count": null,
   "id": "d561ba9d-8ccc-4ada-b945-4243ce6d0fdd",
   "metadata": {},
   "outputs": [],
   "source": [
    "import matplotlib.pyplot as plt\n",
    "import numpy as np\n",
    "import sklearn\n",
    "from svm_utility import draw_hyperplane\n",
    "np.random.seed(42) # for reproducibility\n",
    "\n",
    "plt.close('all')\n",
    "\n",
    "p = 2\n",
    "\n",
    "n_pos = 50\n",
    "n_neg = n_pos\n",
    "\n",
    "mu_pos = [4, 0] # mu for positive samples\n",
    "mu_neg = [0, 4] # mu for negative samples\n",
    "\n",
    "A_pos = np.array([[1, 0.5], [-0.5, 1]]) # x = Az for positive samples\n",
    "A_neg = np.array([[-1, 0.5], [1, 1]]) # x = Az for positive samples\n",
    "\n",
    "z_pos = np.random.randn(n_pos, p)\n",
    "z_neg = np.random.randn(n_neg, p)\n",
    "\n",
    "X_pos = np.matmul(z_pos, A_pos) + mu_pos\n",
    "X_neg = np.matmul(z_neg, A_neg) + mu_neg\n",
    "\n",
    "X = np.concatenate([X_pos, X_neg])\n",
    "y = np.concatenate([np.ones(n_pos), -np.ones(n_neg)])\n",
    "\n",
    "plt.scatter(X[:, 0], X[:, 1], c=y, marker='.')\n",
    "\n",
    "w = [..., ...] # to complete\n",
    "b = ... # to complete\n",
    "draw_hyperplane(w, b)\n",
    "plt.show(block=False)\n"
   ]
  }
 ],
 "metadata": {
  "kernelspec": {
   "display_name": "Python 3 (ipykernel)",
   "language": "python",
   "name": "python3"
  },
  "language_info": {
   "codemirror_mode": {
    "name": "ipython",
    "version": 3
   },
   "file_extension": ".py",
   "mimetype": "text/x-python",
   "name": "python",
   "nbconvert_exporter": "python",
   "pygments_lexer": "ipython3",
   "version": "3.11.6"
  }
 },
 "nbformat": 4,
 "nbformat_minor": 5
}
