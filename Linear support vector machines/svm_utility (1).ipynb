{
 "cells": [
  {
   "cell_type": "code",
   "execution_count": null,
   "id": "71552c3a-e570-48f6-9343-a303c0be9376",
   "metadata": {},
   "outputs": [],
   "source": [
    "import matplotlib.pyplot as plt\n",
    "import numpy as np\n",
    "\n",
    "\n",
    "def draw_hyperplane(w, b, ax=None, line='-', show_w=True):\n",
    "    \"\"\" draw hyperplane (in dimension 2)\n",
    "\n",
    "    \"\"\"\n",
    "    if ax is None:\n",
    "        # current axis\n",
    "        ax = plt.gca()\n",
    "\n",
    "    assert np.linalg.norm(w) > 0\n",
    "\n",
    "    coordinates = {_: {'x': [ax.get_xlim()[_], None],\n",
    "                       'y': [None, ax.get_ylim()[_]]}\n",
    "                   for _ in (0, 1)}\n",
    "\n",
    "    for _ in 0, 1:\n",
    "        for xy, other_w in zip('xy', (1, 0)):\n",
    "            other_c = (- b - w[1 - other_w] * coordinates[_][xy][1 - other_w]) / w[other_w]\n",
    "            coordinates[_][xy][other_w] = other_c\n",
    "\n",
    "    p = {}\n",
    "    p[0] = coordinates[0]['x'] if coordinates[0]['x'][0] > coordinates[0]['y'][0] else coordinates[0]['y']\n",
    "    p[1] = coordinates[1]['x'] if coordinates[1]['x'][0] < coordinates[1]['y'][0] else coordinates[1]['y']\n",
    "\n",
    "    ax.plot([p[0][0], p[1][0]], [p[0][1], p[1][1]], line)\n",
    "\n",
    "    if show_w:\n",
    "        mid = [0.5 * p[0][_] + 0.5 * p[1][_] for _ in (0, 1)]\n",
    "        ax.arrow(*mid, *w, head_width=0.1)\n",
    "\n",
    "    ax.set_aspect('equal')"
   ]
  }
 ],
 "metadata": {
  "kernelspec": {
   "display_name": "Python 3 (ipykernel)",
   "language": "python",
   "name": "python3"
  },
  "language_info": {
   "codemirror_mode": {
    "name": "ipython",
    "version": 3
   },
   "file_extension": ".py",
   "mimetype": "text/x-python",
   "name": "python",
   "nbconvert_exporter": "python",
   "pygments_lexer": "ipython3",
   "version": "3.11.6"
  }
 },
 "nbformat": 4,
 "nbformat_minor": 5
}
